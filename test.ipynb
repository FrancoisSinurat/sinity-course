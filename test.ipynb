{
 "cells": [
  {
   "cell_type": "code",
   "execution_count": null,
   "metadata": {},
   "outputs": [
    {
     "name": "stdout",
     "output_type": "stream",
     "text": [
      "Current number: 19\n",
      "Current number: 82\n",
      "Current number: 68\n",
      "Current number: 100\n",
      "Final number: 1\n",
      "True\n",
      "Current number: 2\n",
      "Current number: 4\n",
      "Current number: 16\n",
      "Current number: 37\n",
      "Current number: 58\n",
      "Current number: 89\n",
      "Current number: 145\n",
      "Current number: 42\n",
      "Current number: 20\n",
      "Final number: 4\n",
      "False\n"
     ]
    }
   ],
   "source": [
    "def get_next(n):\n",
    "    total = 0\n",
    "    while n > 0:\n",
    "        digit = n % 10  # Ambil digit terakhir dari n\n",
    "        total += digit ** 2  # Tambahkan kuadrat digit ke total\n",
    "        n //= 10  # Hapus digit terakhir dari n\n",
    "    return total  # Kembalikan hasil jumlah kuadrat\n",
    "\n",
    "\n",
    "def is_happy(n):\n",
    "    seen = set()  # Set untuk menyimpan angka yang sudah muncul\n",
    "    while n != 1 and n not in seen:\n",
    "        print(f\"Current number: {n}\")  # Print proses perhitungan\n",
    "        seen.add(n)  # Tambahkan n ke dalam set untuk mendeteksi loop\n",
    "        n = get_next(n)  # Ganti n dengan jumlah kuadrat digit-digitnya\n",
    "    print(f\"Final number: {n}\")  # Print hasil akhir\n",
    "    return n == 1  # Jika n == 1, maka True; jika loop, maka False\n",
    "\n",
    "# Contoh Penggunaan\n",
    "print(is_happy(19))  # Output: True\n",
    "print(is_happy(2))   # Output: False\n"
   ]
  },
  {
   "cell_type": "code",
   "execution_count": null,
   "metadata": {},
   "outputs": [
    {
     "name": "stdout",
     "output_type": "stream",
     "text": [
      "=== Proses Menghitung Frekuensi ===\n",
      "Menambahkan 3, count_dict: {3: 1}\n",
      "Menambahkan 2, count_dict: {3: 1, 2: 1}\n",
      "Menambahkan 3, count_dict: {3: 2, 2: 1}\n",
      "\n",
      "=== Mencari Majority Element ===\n",
      "Memeriksa 3: 2 kali\n",
      "Majority Element ditemukan: 3\n",
      "\n",
      "Hasil Akhir: 3\n",
      "=== Proses Menghitung Frekuensi ===\n",
      "Menambahkan 2, count_dict: {2: 1}\n",
      "Menambahkan 2, count_dict: {2: 2}\n",
      "Menambahkan 1, count_dict: {2: 2, 1: 1}\n",
      "Menambahkan 1, count_dict: {2: 2, 1: 2}\n",
      "Menambahkan 1, count_dict: {2: 2, 1: 3}\n",
      "Menambahkan 2, count_dict: {2: 3, 1: 3}\n",
      "Menambahkan 2, count_dict: {2: 4, 1: 3}\n",
      "\n",
      "=== Mencari Majority Element ===\n",
      "Memeriksa 2: 4 kali\n",
      "Majority Element ditemukan: 2\n",
      "\n",
      "Hasil Akhir: 2\n"
     ]
    }
   ],
   "source": [
    "def majorityElement(nums):\n",
    "    # Buat dictionary untuk menyimpan jumlah kemunculan setiap angka\n",
    "    count_dict = {}\n",
    "\n",
    "    # Hitung frekuensi setiap elemen dalam array\n",
    "    for num in nums:\n",
    "        if num in count_dict:\n",
    "            count_dict[num] += 1\n",
    "        else:\n",
    "            count_dict[num] = 1\n",
    "\n",
    "    # Cari elemen yang muncul lebih dari n/2 kali\n",
    "    n = len(nums)\n",
    "    for result, value in count_dict.items():\n",
    "        if value > n // 2:\n",
    "            return result\n",
    "\n",
    "# Contoh penggunaan\n",
    "print(majorityElement([3, 2, 3]))  # Output: 3\n",
    "print(majorityElement([2, 2, 1, 1, 1, 2, 2]))  # Output: 2\n"
   ]
  }
 ],
 "metadata": {
  "kernelspec": {
   "display_name": ".venv",
   "language": "python",
   "name": "python3"
  },
  "language_info": {
   "codemirror_mode": {
    "name": "ipython",
    "version": 3
   },
   "file_extension": ".py",
   "mimetype": "text/x-python",
   "name": "python",
   "nbconvert_exporter": "python",
   "pygments_lexer": "ipython3",
   "version": "3.12.3"
  }
 },
 "nbformat": 4,
 "nbformat_minor": 2
}
