{
 "cells": [
  {
   "cell_type": "code",
   "execution_count": 3,
   "metadata": {},
   "outputs": [],
   "source": [
    "import pandas as pd"
   ]
  },
  {
   "cell_type": "code",
   "execution_count": 4,
   "metadata": {},
   "outputs": [
    {
     "name": "stdout",
     "output_type": "stream",
     "text": [
      "                                             reviews       reviewers  \\\n",
      "0  Pretty dry, but I was able to pass with just t...     By Robert S   \n",
      "1  would be a better experience if the video and ...  By Gabriel E R   \n",
      "2  Information was perfect! The program itself wa...      By Jacob D   \n",
      "3  A few grammatical mistakes on test made me do ...       By Dale B   \n",
      "4  Excellent course and the training provided was...       By Sean G   \n",
      "\n",
      "   date_reviews  rating                 course_id  \n",
      "0  Feb 12, 2020       4  google-cbrs-cpi-training  \n",
      "1  Sep 28, 2020       4  google-cbrs-cpi-training  \n",
      "2  Apr 08, 2020       4  google-cbrs-cpi-training  \n",
      "3  Feb 24, 2020       4  google-cbrs-cpi-training  \n",
      "4  Jun 18, 2020       4  google-cbrs-cpi-training  \n",
      "                                                name  \\\n",
      "0                                   Machine Learning   \n",
      "1                                  Indigenous Canada   \n",
      "2                          The Science of Well-Being   \n",
      "3                     Technical Support Fundamentals   \n",
      "4  Become a CBRS Certified Professional Installer...   \n",
      "\n",
      "                 institution  \\\n",
      "0        Stanford University   \n",
      "1      University of Alberta   \n",
      "2            Yale University   \n",
      "3                     Google   \n",
      "4  Google - Spectrum Sharing   \n",
      "\n",
      "                                          course_url  \\\n",
      "0    https://www.coursera.org/learn/machine-learning   \n",
      "1   https://www.coursera.org/learn/indigenous-canada   \n",
      "2  https://www.coursera.org/learn/the-science-of-...   \n",
      "3  https://www.coursera.org/learn/technical-suppo...   \n",
      "4  https://www.coursera.org/learn/google-cbrs-cpi...   \n",
      "\n",
      "                        course_id  \n",
      "0                machine-learning  \n",
      "1               indigenous-canada  \n",
      "2       the-science-of-well-being  \n",
      "3  technical-support-fundamentals  \n",
      "4        google-cbrs-cpi-training  \n"
     ]
    }
   ],
   "source": [
    "## Load CSV Reviews and courses \n",
    "df_reviews = pd.read_csv(\"Coursera_reviews.csv\")  # File review\n",
    "df_courses = pd.read_csv(\"Coursera_courses.csv\")  # File course\n",
    "\n",
    "# Cek struktur data\n",
    "print(df_reviews.head())\n",
    "print(df_courses.head())"
   ]
  },
  {
   "cell_type": "code",
   "execution_count": 5,
   "metadata": {},
   "outputs": [
    {
     "name": "stdout",
     "output_type": "stream",
     "text": [
      "Jumlah course_id yang tidak cocok: 0\n",
      "Course ID yang tidak ada di courses.csv: set()\n"
     ]
    }
   ],
   "source": [
    "# Ambil daftar course_id unik dari kedua dataset\n",
    "course_ids_review = set(df_reviews[\"course_id\"].unique())\n",
    "course_ids_course = set(df_courses[\"course_id\"].unique())\n",
    "\n",
    "# Cek course_id yang ada di review tapi tidak ada di courses\n",
    "missing_courses = course_ids_review - course_ids_course\n",
    "\n",
    "print(f\"Jumlah course_id yang tidak cocok: {len(missing_courses)}\")\n",
    "print(\"Course ID yang tidak ada di courses.csv:\", missing_courses)\n"
   ]
  },
  {
   "cell_type": "code",
   "execution_count": 6,
   "metadata": {},
   "outputs": [
    {
     "name": "stdout",
     "output_type": "stream",
     "text": [
      "Data review sudah difilter dan disimpan sebagai 'filtered_reviews.csv'\n",
      "Jumlah course tanpa review: 19\n",
      "Course ID tanpa review: {'changing-global-order', 'security-safety-globalized-world', 'data-science-course', 'probabilistic-graphical-models', 'marketing-plan', 'international-law-in-action-2', 'edinburgh-music-theory', 'game-theory-1', 'analytics-tableau', 'unraveling-the-cycling-city', 'dairy-production', 'hotel-distribution', 'circular-economy', 'mindfulness', 'introduction-clinical-data', 'organizational-analysis', 'marketing-analytics', 'algorithms-divide-conquer', 'digital-analytics'}\n"
     ]
    }
   ],
   "source": [
    "# Filter hanya review dengan course_id yang valid\n",
    "df_valid_reviews = df_reviews[df_reviews[\"course_id\"].isin(course_ids_course)]\n",
    "\n",
    "# Simpan hasil ke CSV baru\n",
    "df_valid_reviews.to_csv(\"filtered_reviews.csv\", index=False)\n",
    "print(\"Data review sudah difilter dan disimpan sebagai 'filtered_reviews.csv'\")\n",
    "\n",
    "# Cek course_id yang ada di course.csv tapi tidak ada di review.csv\n",
    "unused_courses = course_ids_course - course_ids_review\n",
    "\n",
    "print(f\"Jumlah course tanpa review: {len(unused_courses)}\")\n",
    "print(\"Course ID tanpa review:\", unused_courses)\n"
   ]
  },
  {
   "cell_type": "code",
   "execution_count": null,
   "metadata": {},
   "outputs": [],
   "source": [
    "# Hitung rata-rata rating dan jumlah review per course_id\n",
    "agg_reviews = df_valid_reviews.groupby(\"course_id\").agg(\n",
    "    avg_rating=(\"rating\", \"mean\"),  # Rata-rata rating\n",
    "    review_count=(\"rating\", \"count\")  # Banyaknya review\n",
    ").reset_index()\n",
    "``"
   ]
  },
  {
   "cell_type": "code",
   "execution_count": 9,
   "metadata": {},
   "outputs": [
    {
     "name": "stdout",
     "output_type": "stream",
     "text": [
      "Data dengan rata-rata rating, jumlah review, dan nama course sudah disimpan sebagai 'course_review_summary.csv'\n"
     ]
    }
   ],
   "source": [
    "# Gabungkan dengan courses.csv untuk mendapatkan nama course\n",
    "df_final = agg_reviews.merge(df_courses[[\"course_id\", \"name\"]], on=\"course_id\", how=\"left\")\n",
    "\n",
    "# Simpan hasil ke CSV baru\n",
    "df_final.to_csv(\"course_review_summary.csv\", index=False)\n",
    "\n",
    "print(\"Data dengan rata-rata rating, jumlah review, dan nama course sudah disimpan sebagai 'course_review_summary.csv'\")\n"
   ]
  }
 ],
 "metadata": {
  "kernelspec": {
   "display_name": ".venv",
   "language": "python",
   "name": "python3"
  },
  "language_info": {
   "codemirror_mode": {
    "name": "ipython",
    "version": 3
   },
   "file_extension": ".py",
   "mimetype": "text/x-python",
   "name": "python",
   "nbconvert_exporter": "python",
   "pygments_lexer": "ipython3",
   "version": "3.12.3"
  }
 },
 "nbformat": 4,
 "nbformat_minor": 2
}
